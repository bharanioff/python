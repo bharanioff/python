{
 "cells": [
  {
   "cell_type": "code",
   "execution_count": null,
   "id": "427d3484",
   "metadata": {},
   "outputs": [],
   "source": [
    "#7\n",
    "\n",
    "given_sets= [[1,2,3,4,8], [2,3,8,5,6], [8,4,5,3,7],[6,9,8,3],[9,12,3,7,6,8,4,6,21,1,6]]\n",
    "c=set(given_sets[0]).intersection(*given_sets)\n",
    "print(\"Output:\",c)"
   ]
  }
 ],
 "metadata": {
  "kernelspec": {
   "display_name": "Python 3 (ipykernel)",
   "language": "python",
   "name": "python3"
  },
  "language_info": {
   "codemirror_mode": {
    "name": "ipython",
    "version": 3
   },
   "file_extension": ".py",
   "mimetype": "text/x-python",
   "name": "python",
   "nbconvert_exporter": "python",
   "pygments_lexer": "ipython3",
   "version": "3.10.3"
  }
 },
 "nbformat": 4,
 "nbformat_minor": 5
}
