{
 "cells": [
  {
   "cell_type": "code",
   "execution_count": 1,
   "id": "43764554",
   "metadata": {},
   "outputs": [
    {
     "name": "stdout",
     "output_type": "stream",
     "text": [
      "152.2360679774998\n"
     ]
    }
   ],
   "source": [
    "\n",
    "\n",
    "def addi(n):\n",
    "    d = { 'Square': lambda a : a**2, \n",
    "         'Cube': lambda a : a**3, \n",
    "         'Squareroot': lambda a : a**(1/2)}\n",
    "    sum = 0\n",
    "    for key in d.keys():\n",
    "        sum += d[key](n)\n",
    "    return sum\n",
    "    \n",
    "print(addi(5))\n"
   ]
  }
 ],
 "metadata": {
  "kernelspec": {
   "display_name": "Python 3 (ipykernel)",
   "language": "python",
   "name": "python3"
  },
  "language_info": {
   "codemirror_mode": {
    "name": "ipython",
    "version": 3
   },
   "file_extension": ".py",
   "mimetype": "text/x-python",
   "name": "python",
   "nbconvert_exporter": "python",
   "pygments_lexer": "ipython3",
   "version": "3.10.3"
  }
 },
 "nbformat": 4,
 "nbformat_minor": 5
}
