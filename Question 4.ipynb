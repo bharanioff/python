{
 "cells": [
  {
   "cell_type": "code",
   "execution_count": null,
   "id": "1ff21bc5",
   "metadata": {},
   "outputs": [],
   "source": [
    "#4\n",
    "\n",
    "ls=['hello','hOw','Dear','ARe','You']\n",
    "d=[]\n",
    "for i in range(0,len(ls)):\n",
    "    s=ls[i]\n",
    "    if s[1].isupper():\n",
    "        d.append(s)\n",
    "print(d)"
   ]
  }
 ],
 "metadata": {
  "kernelspec": {
   "display_name": "Python 3 (ipykernel)",
   "language": "python",
   "name": "python3"
  },
  "language_info": {
   "codemirror_mode": {
    "name": "ipython",
    "version": 3
   },
   "file_extension": ".py",
   "mimetype": "text/x-python",
   "name": "python",
   "nbconvert_exporter": "python",
   "pygments_lexer": "ipython3",
   "version": "3.10.3"
  }
 },
 "nbformat": 4,
 "nbformat_minor": 5
}
