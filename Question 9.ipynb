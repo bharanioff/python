{
 "cells": [
  {
   "cell_type": "code",
   "execution_count": null,
   "id": "ab558d74",
   "metadata": {},
   "outputs": [],
   "source": [
    "#9\n",
    "\n",
    "isbool = map(lambda x:x.upper(), ['True','FALse','tRUe','tRue','False','faLse'])\n",
    "output = list(isbool)\n",
    "print(output)"
   ]
  }
 ],
 "metadata": {
  "kernelspec": {
   "display_name": "Python 3 (ipykernel)",
   "language": "python",
   "name": "python3"
  },
  "language_info": {
   "codemirror_mode": {
    "name": "ipython",
    "version": 3
   },
   "file_extension": ".py",
   "mimetype": "text/x-python",
   "name": "python",
   "nbconvert_exporter": "python",
   "pygments_lexer": "ipython3",
   "version": "3.10.3"
  }
 },
 "nbformat": 4,
 "nbformat_minor": 5
}
