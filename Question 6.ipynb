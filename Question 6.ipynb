{
 "cells": [
  {
   "cell_type": "code",
   "execution_count": null,
   "id": "c3e77f68",
   "metadata": {},
   "outputs": [],
   "source": [
    "#6\n",
    "\n",
    "list=['santa Maria','Hello World','Marry christmas','tHank You']\n",
    "n=[]\n",
    "s=[]\n",
    "for i in list:\n",
    "    n.append(i.split(' ')[0])\n",
    "    n.append(i.split(' ')[1])\n",
    "for i in n:\n",
    "    if i[0].isupper():\n",
    "        s.append(i)\n",
    "print(s)"
   ]
  }
 ],
 "metadata": {
  "kernelspec": {
   "display_name": "Python 3 (ipykernel)",
   "language": "python",
   "name": "python3"
  },
  "language_info": {
   "codemirror_mode": {
    "name": "ipython",
    "version": 3
   },
   "file_extension": ".py",
   "mimetype": "text/x-python",
   "name": "python",
   "nbconvert_exporter": "python",
   "pygments_lexer": "ipython3",
   "version": "3.10.3"
  }
 },
 "nbformat": 4,
 "nbformat_minor": 5
}
